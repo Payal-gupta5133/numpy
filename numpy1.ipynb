{
 "cells": [
  {
   "cell_type": "code",
   "execution_count": 5,
   "id": "f0d97ca0",
   "metadata": {},
   "outputs": [
    {
     "name": "stdout",
     "output_type": "stream",
     "text": [
      "[[20, 30], [50, 40, 60]]\n"
     ]
    },
    {
     "data": {
      "text/plain": [
       "'#but in array \\na = np.array([20,30],[50,40,60])\\nprint(a)#error beacuse in array both list have 3 values are compulsory\\n'"
      ]
     },
     "execution_count": 5,
     "metadata": {},
     "output_type": "execute_result"
    }
   ],
   "source": [
    "#difference in list and array\n",
    "list = [[20,30],[50,40,60]]\n",
    "print(list)#success\n",
    "\n",
    "\n",
    "'''#but in array \n",
    "a = np.array([20,30],[50,40,60])\n",
    "print(a)#error beacuse in array both list have 3 values are compulsory\n",
    "'''"
   ]
  },
  {
   "cell_type": "code",
   "execution_count": 2,
   "id": "1c246d4b",
   "metadata": {},
   "outputs": [
    {
     "name": "stdout",
     "output_type": "stream",
     "text": [
      "[23 45 39]\n",
      "[63 65 69]\n"
     ]
    }
   ],
   "source": [
    "import numpy as np\n",
    "a = np.array([23,45,39])\n",
    "b = np.array([40,20,30])\n",
    "print(a)\n",
    "print(a+b)"
   ]
  },
  {
   "cell_type": "code",
   "execution_count": 38,
   "id": "99c93f4c",
   "metadata": {},
   "outputs": [
    {
     "ename": "TypeError",
     "evalue": "array() takes from 1 to 2 positional arguments but 4 were given",
     "output_type": "error",
     "traceback": [
      "\u001b[1;31m---------------------------------------------------------------------------\u001b[0m",
      "\u001b[1;31mTypeError\u001b[0m                                 Traceback (most recent call last)",
      "Cell \u001b[1;32mIn[38], line 2\u001b[0m\n\u001b[0;32m      1\u001b[0m \u001b[38;5;66;03m#matrix\u001b[39;00m\n\u001b[1;32m----> 2\u001b[0m m \u001b[38;5;241m=\u001b[39m np\u001b[38;5;241m.\u001b[39marray([\u001b[38;5;241m10\u001b[39m,\u001b[38;5;241m20\u001b[39m,\u001b[38;5;241m30\u001b[39m,\u001b[38;5;241m40\u001b[39m],[\u001b[38;5;241m15\u001b[39m,\u001b[38;5;241m25\u001b[39m,\u001b[38;5;241m35\u001b[39m,\u001b[38;5;241m45\u001b[39m],[\u001b[38;5;241m50\u001b[39m,\u001b[38;5;241m60\u001b[39m,\u001b[38;5;241m70\u001b[39m,\u001b[38;5;241m80\u001b[39m],[\u001b[38;5;241m55\u001b[39m,\u001b[38;5;241m65\u001b[39m,\u001b[38;5;241m75\u001b[39m,\u001b[38;5;241m85\u001b[39m])\n\u001b[0;32m      3\u001b[0m \u001b[38;5;28mprint\u001b[39m(m)\n\u001b[0;32m      4\u001b[0m \u001b[38;5;28mprint\u001b[39m(np\u001b[38;5;241m.\u001b[39mshape(m))\n",
      "\u001b[1;31mTypeError\u001b[0m: array() takes from 1 to 2 positional arguments but 4 were given"
     ]
    }
   ],
   "source": [
    "#matrix\n",
    "m = np.array([10,20,30,40],[15,25,35,45],[50,60,70,80],[55,65,75,85])\n",
    "print(m)\n",
    "print(np.shape(m))\n",
    "print(np.size(m))\n",
    "\n",
    "#slicing of array\n",
    "a = np.array([20,30,40,50])\n",
    "print(a[0:3])\n",
    "\n"
   ]
  },
  {
   "cell_type": "code",
   "execution_count": 24,
   "id": "8afe721b",
   "metadata": {},
   "outputs": [
    {
     "name": "stdout",
     "output_type": "stream",
     "text": [
      "[[10 20 30]\n",
      " [15 25 35]]\n",
      "[[10 20 30]\n",
      " [15 25 35]]\n",
      "[[10 20]\n",
      " [15 25]]\n",
      "(2, 4)\n"
     ]
    }
   ],
   "source": [
    "#slicing of array with multiple list\n",
    "a = np.array([[10,20,30,40],[15,25,35,45]])\n",
    "print(a[0:3,0:3])\n",
    "print(a[0:2,0:3])\n",
    "print(a[0:3,0:2])\n",
    "print(np.shape(a))\n"
   ]
  },
  {
   "cell_type": "code",
   "execution_count": 40,
   "id": "c2ab78fa",
   "metadata": {},
   "outputs": [
    {
     "name": "stdout",
     "output_type": "stream",
     "text": [
      "(2, 3)\n",
      "6\n",
      "6\n",
      "int32\n",
      "[['10' '20' '30']\n",
      " ['15' '25' '35']]\n"
     ]
    }
   ],
   "source": [
    "#inspecting an array\n",
    "arr = [[10,20,30],[15,25,35]]\n",
    "m = np.array(arr)\n",
    "#to check row and column\n",
    "print(m.shape)\n",
    "#to chheck size\n",
    "print(m.size)\n",
    "print(np.size(m))\n",
    "#to check datatype of array\n",
    "print(m.dtype)\n",
    "#to change type\n",
    "print(m.astype(str))\n"
   ]
  },
  {
   "cell_type": "code",
   "execution_count": 47,
   "id": "8cedca05",
   "metadata": {},
   "outputs": [
    {
     "name": "stdout",
     "output_type": "stream",
     "text": [
      "[[60 30]\n",
      " [70 20]]\n",
      "[[  0 -10]\n",
      " [-30   0]]\n",
      "[[ 900  200]\n",
      " [1000  100]]\n",
      "[[1.  0.5]\n",
      " [0.4 1. ]]\n"
     ]
    }
   ],
   "source": [
    "#mathematical operations on array\n",
    "a = np.array([[30,10],[20,10]])\n",
    "b = np.array([[30,20],[50,10]])\n",
    "#add\n",
    "print(np.add(a,b))\n",
    "#subtract\n",
    "print(np.subtract(a,b)) #or print(a-b)\n",
    "#multiply\n",
    "print(np.multiply(a,b))#or print(a*b)\n",
    "#divide\n",
    "print(np.divide(a,b))#or print(a/b)"
   ]
  },
  {
   "cell_type": "code",
   "execution_count": 52,
   "id": "215c0de4",
   "metadata": {},
   "outputs": [
    {
     "name": "stdout",
     "output_type": "stream",
     "text": [
      "[ 9 25 49  4]\n",
      "[3. 5. 7. 2.]\n"
     ]
    }
   ],
   "source": [
    "#find power \n",
    "arr = np.array([3,5,7,2])\n",
    "arr1 = np.array([2])\n",
    "print(np.power(arr,arr1))\n",
    "\n",
    "#find square root\n",
    "a = np.array([9,25,49,4])\n",
    "print(np.sqrt(a))"
   ]
  },
  {
   "cell_type": "code",
   "execution_count": 56,
   "id": "61a276a3",
   "metadata": {},
   "outputs": [
    {
     "name": "stdout",
     "output_type": "stream",
     "text": [
      "[15 25 35  1  2  3]\n"
     ]
    }
   ],
   "source": [
    "#concatenate(join two arrays)\n",
    "arr1 = np.array([15,25,35])\n",
    "arr2 = np.array([1,2,3])\n",
    "print(np.concatenate([arr1,arr2]))"
   ]
  },
  {
   "cell_type": "code",
   "execution_count": 59,
   "id": "5382061a",
   "metadata": {},
   "outputs": [
    {
     "name": "stdout",
     "output_type": "stream",
     "text": [
      "[[15 25  1  2]\n",
      " [35 45  3  3]]\n"
     ]
    }
   ],
   "source": [
    "#concatenate(join two arrays)\n",
    "arr1 = np.array([[15,25],[35,45]])\n",
    "arr2 = np.array([[1,2],[3,3]])\n",
    "print(np.concatenate([arr1,arr2],axis = 1))"
   ]
  },
  {
   "cell_type": "code",
   "execution_count": 61,
   "id": "29d2aeed",
   "metadata": {},
   "outputs": [
    {
     "name": "stdout",
     "output_type": "stream",
     "text": [
      "[[15 25  1  2]\n",
      " [35 45  3  3]]\n",
      "[[15 25]\n",
      " [35 45]\n",
      " [ 1  2]\n",
      " [ 3  3]]\n"
     ]
    }
   ],
   "source": [
    "#horizontal concatenate\n",
    "arr1 = np.array([[15,25],[35,45]])\n",
    "arr2 = np.array([[1,2],[3,3]])\n",
    "print(np.hstack([arr1,arr2]))\n",
    "#vertically concatenate\n",
    "print(np.vstack([arr1,arr2]))"
   ]
  },
  {
   "cell_type": "code",
   "execution_count": 67,
   "id": "fe156b5e",
   "metadata": {},
   "outputs": [
    {
     "ename": "TypeError",
     "evalue": "array_split() missing 1 required positional argument: 'indices_or_sections'",
     "output_type": "error",
     "traceback": [
      "\u001b[1;31m---------------------------------------------------------------------------\u001b[0m",
      "\u001b[1;31mTypeError\u001b[0m                                 Traceback (most recent call last)",
      "Cell \u001b[1;32mIn[67], line 2\u001b[0m\n\u001b[0;32m      1\u001b[0m arr1 \u001b[38;5;241m=\u001b[39m np\u001b[38;5;241m.\u001b[39marray([\u001b[38;5;241m15\u001b[39m,\u001b[38;5;241m25\u001b[39m,\u001b[38;5;241m35\u001b[39m,\u001b[38;5;241m45\u001b[39m])\n\u001b[1;32m----> 2\u001b[0m a \u001b[38;5;241m=\u001b[39m np\u001b[38;5;241m.\u001b[39marray_split(arr1[\u001b[38;5;241m2\u001b[39m])\n",
      "File \u001b[1;32m<__array_function__ internals>:198\u001b[0m, in \u001b[0;36marray_split\u001b[1;34m(*args, **kwargs)\u001b[0m\n",
      "\u001b[1;31mTypeError\u001b[0m: array_split() missing 1 required positional argument: 'indices_or_sections'"
     ]
    }
   ],
   "source": [
    "arr1 = np.array([15,25,35,45])\n",
    "a = np.array_split(arr1[2])"
   ]
  },
  {
   "cell_type": "code",
   "execution_count": 8,
   "id": "788da508",
   "metadata": {},
   "outputs": [
    {
     "name": "stdout",
     "output_type": "stream",
     "text": [
      "[20 40 60 80 90]\n",
      "[20 50 40 60 80]\n",
      "[20 60 80]\n"
     ]
    }
   ],
   "source": [
    "import numpy as np\n",
    "#adding and removing elements from numpy array\n",
    "a = np.array([20,40,60,80])\n",
    "print(np.append(a,[90]))\n",
    "print(np.insert(a,1,50))\n",
    "print(np.delete(a,1))"
   ]
  },
  {
   "cell_type": "code",
   "execution_count": 14,
   "id": "aab887cb",
   "metadata": {},
   "outputs": [
    {
     "name": "stdout",
     "output_type": "stream",
     "text": [
      "[[ 1  2  7 13 34]\n",
      " [ 6  7 14 24 42]]\n"
     ]
    }
   ],
   "source": [
    "#search_sort_filter on numpy array\n",
    "#sort the array\n",
    "import numpy as np\n",
    "a = np.array([[34,2,7,1,13],[42,6,14,24,7]])\n",
    "print(np.sort(a))"
   ]
  },
  {
   "cell_type": "code",
   "execution_count": 17,
   "id": "e85df8f8",
   "metadata": {},
   "outputs": [
    {
     "name": "stdout",
     "output_type": "stream",
     "text": [
      "(array([0, 0, 1, 1, 1, 1], dtype=int64), array([0, 1, 0, 1, 2, 3], dtype=int64))\n"
     ]
    }
   ],
   "source": [
    "#search in the numpy array\n",
    "a = np.array([[34,2,7,1,13],[42,6,14,24,7]])\n",
    "s = np.where(a%2 == 0)\n",
    "print(s)"
   ]
  },
  {
   "cell_type": "code",
   "execution_count": 22,
   "id": "d5a216ff",
   "metadata": {},
   "outputs": [
    {
     "name": "stdout",
     "output_type": "stream",
     "text": [
      "[34 18]\n",
      "[6 9]\n"
     ]
    }
   ],
   "source": [
    "#filter in numpy array\n",
    "import numpy as np\n",
    "a = np.array([34,6,18,9,17])\n",
    "fa = [True, False, True, False, False]\n",
    "new = a[fa]\n",
    "print(new)\n",
    "#both  a and fa have same number of values.\n",
    "fa = a<=15\n",
    "new = a[fa]\n",
    "print(new)\n"
   ]
  },
  {
   "cell_type": "code",
   "execution_count": 27,
   "id": "95c3d460",
   "metadata": {},
   "outputs": [
    {
     "name": "stdout",
     "output_type": "stream",
     "text": [
      "84\n",
      "6\n",
      "16.8\n",
      "[34 40 58 67 84]\n",
      "34\n"
     ]
    }
   ],
   "source": [
    "#aggregation function\n",
    "import numpy as np\n",
    "a = np.array([34,6,18,9,17])\n",
    "print(np.sum(a))\n",
    "print(np.min(a))\n",
    "print(np.mean(a))\n",
    "print(np.cumsum(a))\n",
    "print(np.max(a))"
   ]
  },
  {
   "cell_type": "code",
   "execution_count": 44,
   "id": "c0a8fc18",
   "metadata": {},
   "outputs": [
    {
     "name": "stdout",
     "output_type": "stream",
     "text": [
      "[100 150 170 230 200 140] \n",
      " [7 4 2 9 5 3]\n",
      "[ 700  600  340 2070 1000  420]\n",
      "5130\n"
     ]
    }
   ],
   "source": [
    "\"\"\"aggregation function on numpy array to check the \n",
    "final price of products\n",
    "\"\"\"\n",
    "import numpy as np\n",
    "a = np.array([100,150,170,230,200,140])\n",
    "b = np.array([7,4,2,9,5,3])\n",
    "price = np.array(a)\n",
    "quantity=(np.array(b))\n",
    "print(price ,\"\\n\",quantity)\n",
    "#apply aggregate product\n",
    "#if we have two columns then it is compulsory to pass axis\n",
    "c = np.cumprod([price,quantity], axis = 0)\n",
    "print(c[1])\n",
    "print(c[1].sum())"
   ]
  },
  {
   "cell_type": "code",
   "execution_count": 51,
   "id": "49317f62",
   "metadata": {},
   "outputs": [
    {
     "name": "stdout",
     "output_type": "stream",
     "text": [
      "155.71428571428572\n",
      "150.0\n",
      "100\n",
      "44.99433070863892\n",
      "2024.489795918367\n"
     ]
    }
   ],
   "source": [
    "#statistical function\n",
    "import numpy as np\n",
    "#for mode\n",
    "import statistics as stats\n",
    "a = np.array([100,150,170,230,100,200,140])\n",
    "#find the mean\n",
    "print(np.mean(a))#sum of all values/number of values\n",
    "#find the median\n",
    "print(np.median(a))#after sorting an array the central value is mediaan\n",
    "#find mode\n",
    "'''in numpy there is no any function of mode thats why\n",
    "we use \"stats\" to find mode\n",
    "mode is the number which reuccure\n",
    "we have to import : import statistics as stats'''\n",
    "print(stats.mode(a))\n",
    "print(np.std(a))#check the standard deviation\n",
    "print(np.var(a))#variation is the square root of SD"
   ]
  },
  {
   "cell_type": "code",
   "execution_count": 55,
   "id": "489b88a5",
   "metadata": {},
   "outputs": [
    {
     "name": "stdout",
     "output_type": "stream",
     "text": [
      "[[1.         0.96525442]\n",
      " [0.96525442 1.        ]]\n",
      "[[ 1.         -0.97085578]\n",
      " [-0.97085578  1.        ]]\n"
     ]
    }
   ],
   "source": [
    "#co-relation\n",
    "'''-1 represents inversly proportional relationship\n",
    "1 reprents proportional relationship\n",
    "0 reprents neutral doesnt depend on each other'''\n",
    "#example\n",
    "'''in this example the value is between 0 to 1 which means \n",
    "value of death increases acc to tobacco cunsumption'''\n",
    "import numpy as np\n",
    "tobacco_cunsumption = np.array([30,50,10,40,60])\n",
    "deaths = np.array([100,150,40,140,156])\n",
    "print(np.corrcoef([tobacco_cunsumption,deaths]))\n",
    "#example2\n",
    "'''in this example the value is between -1 to 0 which means \n",
    "sales decrease when price increase'''\n",
    "price = np.array([200,100,350,150,300])\n",
    "sales = np.array([15,24,10,20,12])\n",
    "print(np.corrcoef([price,sales]))"
   ]
  },
  {
   "cell_type": "code",
   "execution_count": null,
   "id": "53b90cba",
   "metadata": {},
   "outputs": [],
   "source": []
  }
 ],
 "metadata": {
  "kernelspec": {
   "display_name": "Python 3 (ipykernel)",
   "language": "python",
   "name": "python3"
  },
  "language_info": {
   "codemirror_mode": {
    "name": "ipython",
    "version": 3
   },
   "file_extension": ".py",
   "mimetype": "text/x-python",
   "name": "python",
   "nbconvert_exporter": "python",
   "pygments_lexer": "ipython3",
   "version": "3.11.5"
  }
 },
 "nbformat": 4,
 "nbformat_minor": 5
}
